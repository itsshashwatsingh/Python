{
 "cells": [
  {
   "cell_type": "markdown",
   "id": "7bc5cd1f-4672-403c-98c1-bc568cf8af34",
   "metadata": {},
   "source": [
    "## strings in python "
   ]
  },
  {
   "cell_type": "code",
   "execution_count": 3,
   "id": "a6a27389-ea36-4591-8805-a0243710ab84",
   "metadata": {},
   "outputs": [],
   "source": [
    "name = \"shashwat\" # string stored in variable name"
   ]
  },
  {
   "cell_type": "code",
   "execution_count": 2,
   "id": "c1840cd6-d062-4dfc-9b84-6ca60a0c4f44",
   "metadata": {},
   "outputs": [
    {
     "data": {
      "text/plain": [
       "'shashwat'"
      ]
     },
     "execution_count": 2,
     "metadata": {},
     "output_type": "execute_result"
    }
   ],
   "source": [
    "name"
   ]
  },
  {
   "cell_type": "markdown",
   "id": "67682ddc-11ec-4409-9b59-97b452a22fa5",
   "metadata": {},
   "source": [
    "and we are getting the stored sting as an output"
   ]
  },
  {
   "cell_type": "markdown",
   "id": "e009d0c3-f5c6-434b-b708-70fea501c174",
   "metadata": {},
   "source": [
    "lets convert this string into upper case"
   ]
  },
  {
   "cell_type": "code",
   "execution_count": 4,
   "id": "6b064f77-4174-4d5e-b0f2-ffae7354dd8a",
   "metadata": {},
   "outputs": [
    {
     "data": {
      "text/plain": [
       "'SHASHWAT'"
      ]
     },
     "execution_count": 4,
     "metadata": {},
     "output_type": "execute_result"
    }
   ],
   "source": [
    "name.upper()"
   ]
  },
  {
   "cell_type": "markdown",
   "id": "d676eb39-3670-4879-80c1-3a5307bc7073",
   "metadata": {},
   "source": [
    "we can also check sting positions using boolean"
   ]
  },
  {
   "cell_type": "code",
   "execution_count": 5,
   "id": "fe8711e7-2e94-4a0f-8973-ed86785a157b",
   "metadata": {},
   "outputs": [
    {
     "data": {
      "text/plain": [
       "True"
      ]
     },
     "execution_count": 5,
     "metadata": {},
     "output_type": "execute_result"
    }
   ],
   "source": [
    "name.endswith(\"wat\")"
   ]
  },
  {
   "cell_type": "markdown",
   "id": "9516c151-a129-4c1d-a736-a9f018398ceb",
   "metadata": {},
   "source": [
    "name.endswith(\"jerry\")"
   ]
  },
  {
   "cell_type": "markdown",
   "id": "cca55eee-36b6-4a7a-b19c-602e0234a625",
   "metadata": {},
   "source": [
    "can also count the number of characters present inside a string"
   ]
  },
  {
   "cell_type": "code",
   "execution_count": 8,
   "id": "05649665-f15e-485d-ac50-c0a759f1202b",
   "metadata": {},
   "outputs": [
    {
     "data": {
      "text/plain": [
       "2"
      ]
     },
     "execution_count": 8,
     "metadata": {},
     "output_type": "execute_result"
    }
   ],
   "source": [
    "name.count(\"a\")"
   ]
  },
  {
   "cell_type": "code",
   "execution_count": 9,
   "id": "7b00ea6e-e93c-4d86-b57a-417418a21002",
   "metadata": {},
   "outputs": [
    {
     "data": {
      "text/plain": [
       "2"
      ]
     },
     "execution_count": 9,
     "metadata": {},
     "output_type": "execute_result"
    }
   ],
   "source": [
    "name.count(\"s\")"
   ]
  },
  {
   "cell_type": "markdown",
   "id": "17c5f7ca-2ee3-46a5-be58-d8155560879c",
   "metadata": {},
   "source": [
    "no need to mug up all these string functions can always search on google or ask chatgpt directly"
   ]
  },
  {
   "cell_type": "markdown",
   "id": "5943d86e-2647-4308-b560-cfaaa8ec4d18",
   "metadata": {},
   "source": [
    "can also get the length of a string "
   ]
  },
  {
   "cell_type": "code",
   "execution_count": 16,
   "id": "4fc8e922-da36-4426-a6d5-e577e9159a25",
   "metadata": {},
   "outputs": [
    {
     "data": {
      "text/plain": [
       "8"
      ]
     },
     "execution_count": 16,
     "metadata": {},
     "output_type": "execute_result"
    }
   ],
   "source": [
    "len(name)"
   ]
  },
  {
   "cell_type": "markdown",
   "id": "0ae9a22c-afaa-4bb0-bf6d-3fdd6cd722bb",
   "metadata": {},
   "source": [
    "8 is the length of string \"name\""
   ]
  },
  {
   "cell_type": "markdown",
   "id": "50750d5e-372e-4408-bd46-5f5739218a7f",
   "metadata": {},
   "source": [
    "there is also a replace fuction "
   ]
  },
  {
   "cell_type": "code",
   "execution_count": 14,
   "id": "ab50fbb1-1835-4414-85a6-3fbb6d04c1d0",
   "metadata": {},
   "outputs": [],
   "source": [
    "a = \"hello world\""
   ]
  },
  {
   "cell_type": "code",
   "execution_count": 15,
   "id": "1f68debd-a2b5-4dfe-99c9-e30dd07d95ee",
   "metadata": {},
   "outputs": [
    {
     "name": "stdout",
     "output_type": "stream",
     "text": [
      "hello world\n"
     ]
    }
   ],
   "source": [
    "print(a)"
   ]
  },
  {
   "cell_type": "code",
   "execution_count": 17,
   "id": "05bcbd98-e8e1-4bc5-91f8-7930e32c6ba5",
   "metadata": {},
   "outputs": [
    {
     "data": {
      "text/plain": [
       "'hello python'"
      ]
     },
     "execution_count": 17,
     "metadata": {},
     "output_type": "execute_result"
    }
   ],
   "source": [
    "a.replace(\"world\",\"python\")"
   ]
  },
  {
   "cell_type": "markdown",
   "id": "f784e497-af1c-4e82-94ac-0902231926f2",
   "metadata": {},
   "source": [
    "and we can get the sring characters based on index "
   ]
  },
  {
   "cell_type": "code",
   "execution_count": 18,
   "id": "d0cd5b4f-56f2-4eb7-ad90-1a02284ca15e",
   "metadata": {},
   "outputs": [
    {
     "data": {
      "text/plain": [
       "'e'"
      ]
     },
     "execution_count": 18,
     "metadata": {},
     "output_type": "execute_result"
    }
   ],
   "source": [
    "a[1]"
   ]
  },
  {
   "cell_type": "markdown",
   "id": "eb185a95-790d-4476-9e0a-eb1ef35223d8",
   "metadata": {},
   "source": [
    "lets get characters in using index positions"
   ]
  },
  {
   "cell_type": "code",
   "execution_count": 19,
   "id": "e7f90d12-a05e-41bb-a4bb-88318b24e49c",
   "metadata": {},
   "outputs": [
    {
     "data": {
      "text/plain": [
       "'llo'"
      ]
     },
     "execution_count": 19,
     "metadata": {},
     "output_type": "execute_result"
    }
   ],
   "source": [
    "a[2:5]"
   ]
  },
  {
   "cell_type": "markdown",
   "id": "b6e3f498-b8bf-4178-b99f-a956470e0892",
   "metadata": {},
   "source": [
    "and we got the characters in between 2 and 5 index of sting a"
   ]
  },
  {
   "cell_type": "markdown",
   "id": "ac66b65f-8ba9-4073-91e4-8f5f213e9f3f",
   "metadata": {},
   "source": [
    "we can also do this using negative index positions "
   ]
  },
  {
   "cell_type": "code",
   "execution_count": 22,
   "id": "f31205e1-1c3c-4af0-9011-52828bffdcda",
   "metadata": {},
   "outputs": [
    {
     "data": {
      "text/plain": [
       "'ello worl'"
      ]
     },
     "execution_count": 22,
     "metadata": {},
     "output_type": "execute_result"
    }
   ],
   "source": [
    "a[-10:-1]"
   ]
  },
  {
   "cell_type": "markdown",
   "id": "75c52832-50b8-4cef-a4ea-24eba9cf0150",
   "metadata": {},
   "source": [
    "here to convert the negative index position to positive by adding the index position with string length \n",
    "for example -10 + length i.e. 11 = 1 index poition to -1 + length 11 = 10 index position therefore the \n",
    "output is --> 'ello worl'"
   ]
  },
  {
   "cell_type": "code",
   "execution_count": 23,
   "id": "d7c984cf-54c2-4fdc-87ba-4700d5375165",
   "metadata": {},
   "outputs": [
    {
     "data": {
      "text/plain": [
       "'ello worl'"
      ]
     },
     "execution_count": 23,
     "metadata": {},
     "output_type": "execute_result"
    }
   ],
   "source": [
    "a[1:10]"
   ]
  },
  {
   "cell_type": "markdown",
   "id": "6de5d083-3d70-4278-9975-524e72915c65",
   "metadata": {},
   "source": [
    "hence got the same output"
   ]
  },
  {
   "cell_type": "code",
   "execution_count": null,
   "id": "196d9f38-8e63-4c0d-9cf6-e4b7ff9f7d0a",
   "metadata": {},
   "outputs": [],
   "source": []
  }
 ],
 "metadata": {
  "kernelspec": {
   "display_name": "Python 3 (ipykernel)",
   "language": "python",
   "name": "python3"
  },
  "language_info": {
   "codemirror_mode": {
    "name": "ipython",
    "version": 3
   },
   "file_extension": ".py",
   "mimetype": "text/x-python",
   "name": "python",
   "nbconvert_exporter": "python",
   "pygments_lexer": "ipython3",
   "version": "3.13.5"
  }
 },
 "nbformat": 4,
 "nbformat_minor": 5
}
