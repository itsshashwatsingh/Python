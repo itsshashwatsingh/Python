{
 "cells": [
  {
   "cell_type": "markdown",
   "id": "d11bfa68-5b9e-49e1-a4d2-974f089d0fe5",
   "metadata": {},
   "source": [
    "## Tuples and Tuple Methods"
   ]
  },
  {
   "cell_type": "markdown",
   "id": "1be61226-5d1e-4cd6-9a33-1124c8bd99c4",
   "metadata": {},
   "source": [
    "A tuple in Python is an ordered, immutable collection of elements. It is similar to a list, but once created, its elements cannot be modified.\n",
    "\n"
   ]
  },
  {
   "cell_type": "markdown",
   "id": "d9188ed8-2b65-4d8e-80f1-87379ef12443",
   "metadata": {},
   "source": [
    "## Creating a Tuple:"
   ]
  },
  {
   "cell_type": "code",
   "execution_count": 1,
   "id": "760cad59-2840-40ab-a653-7845fbb29a85",
   "metadata": {},
   "outputs": [],
   "source": [
    "# Empty tuple\n",
    "empty_tuple = ()\n",
    "\n",
    "# Tuple with elements\n",
    "numbers = (1, 2, 3, 4, 5)\n",
    "\n",
    "# Mixed data types\n",
    "mixed_tuple = (1, \"Hello\", 3.14, True)\n",
    "\n",
    "# Single element tuple (comma is necessary)\n",
    "single_element = (42,)"
   ]
  },
  {
   "cell_type": "markdown",
   "id": "cd068ff2-75eb-449d-b8e0-f20d831b1495",
   "metadata": {},
   "source": [
    "## Common Tuple Methods"
   ]
  },
  {
   "cell_type": "markdown",
   "id": "252c8a0c-0de7-4257-b208-cd69b84573e4",
   "metadata": {},
   "source": [
    "\n",
    "- count(x) -->\tReturns the number of times x appears in the tuple.\tmy_tuple.count(2)\n",
    "- index(x) -->\tReturns the index of the first occurrence of x.\tmy_tuple.index(3)"
   ]
  },
  {
   "cell_type": "markdown",
   "id": "dc7cc7c3-9748-4341-85d1-7319fb4b041d",
   "metadata": {},
   "source": [
    "## Tuple Characteristics"
   ]
  },
  {
   "cell_type": "markdown",
   "id": "b4315253-e553-41f2-9179-ff5bae2f0f85",
   "metadata": {},
   "source": [
    "- Immutable: Once created, elements cannot be changed.\n",
    "- Faster than lists: Accessing elements in a tuple is faster than in a list.\n",
    "- Can be used as dictionary keys: Since tuples are immutable, they can be used as keys in dictionaries."
   ]
  },
  {
   "cell_type": "code",
   "execution_count": 3,
   "id": "9e9ed3ce-81ea-4e2b-b967-9d18c54153a0",
   "metadata": {},
   "outputs": [
    {
     "name": "stdout",
     "output_type": "stream",
     "text": [
      "20\n",
      "(20, 30)\n"
     ]
    }
   ],
   "source": [
    "my_tuple = (10, 20, 30, 40)\n",
    "\n",
    "# Indexing\n",
    "print(my_tuple[1])  # 20\n",
    "\n",
    "# Slicing\n",
    "print(my_tuple[1:3])  # (20, 30)"
   ]
  },
  {
   "cell_type": "markdown",
   "id": "f8346763-98ca-4e0c-a562-81fadbcb15f6",
   "metadata": {},
   "source": [
    "## Tuple Packing and Unpacking"
   ]
  },
  {
   "cell_type": "code",
   "execution_count": 4,
   "id": "213693fc-e7e1-44db-9983-2183d41633e5",
   "metadata": {},
   "outputs": [
    {
     "name": "stdout",
     "output_type": "stream",
     "text": [
      "Alice\n",
      "25\n"
     ]
    }
   ],
   "source": [
    "# Packing\n",
    "person = (\"Alice\", 25, \"Engineer\")\n",
    "\n",
    "# Unpacking\n",
    "name, age, profession = person\n",
    "print(name)  # Alice\n",
    "print(age)   # 25"
   ]
  },
  {
   "cell_type": "markdown",
   "id": "af782a2b-7382-469b-8f35-b3d9b6847e06",
   "metadata": {},
   "source": [
    "## When to Use Tuples?"
   ]
  },
  {
   "cell_type": "markdown",
   "id": "b79fec1d-67e5-4ffc-9c94-34146cd03e71",
   "metadata": {},
   "source": [
    "- When you want an unchangeable collection of elements.\n",
    "- When you need a faster alternative to lists.\n",
    "- When storing heterogeneous data (e.g., database records, coordinates)."
   ]
  },
  {
   "cell_type": "markdown",
   "id": "885f698f-6d20-4e3b-92f4-74b0ce4192ff",
   "metadata": {},
   "source": [
    "difference and similarity between lists and tuple"
   ]
  },
  {
   "cell_type": "code",
   "execution_count": 6,
   "id": "452784b5-d796-49f4-a3eb-0b8f114a587b",
   "metadata": {},
   "outputs": [],
   "source": [
    "t = ()"
   ]
  },
  {
   "cell_type": "code",
   "execution_count": 7,
   "id": "8ecbdbce-204c-4d86-8f47-b83ae8487312",
   "metadata": {},
   "outputs": [
    {
     "data": {
      "text/plain": [
       "()"
      ]
     },
     "execution_count": 7,
     "metadata": {},
     "output_type": "execute_result"
    }
   ],
   "source": [
    "t"
   ]
  },
  {
   "cell_type": "code",
   "execution_count": 8,
   "id": "70fa2116-8ed9-4b1f-bee6-77967e158149",
   "metadata": {},
   "outputs": [
    {
     "data": {
      "text/plain": [
       "tuple"
      ]
     },
     "execution_count": 8,
     "metadata": {},
     "output_type": "execute_result"
    }
   ],
   "source": [
    "type(t)"
   ]
  },
  {
   "cell_type": "code",
   "execution_count": 9,
   "id": "8de059d1-0622-4f04-b046-e7663a681167",
   "metadata": {},
   "outputs": [],
   "source": [
    "l = []"
   ]
  },
  {
   "cell_type": "code",
   "execution_count": 10,
   "id": "0fd5417c-f044-41e4-9780-89294f58af1e",
   "metadata": {},
   "outputs": [
    {
     "data": {
      "text/plain": [
       "[]"
      ]
     },
     "execution_count": 10,
     "metadata": {},
     "output_type": "execute_result"
    }
   ],
   "source": [
    "l"
   ]
  },
  {
   "cell_type": "code",
   "execution_count": 11,
   "id": "b241850a-81d2-42df-8c00-b03fc65037d0",
   "metadata": {},
   "outputs": [
    {
     "data": {
      "text/plain": [
       "list"
      ]
     },
     "execution_count": 11,
     "metadata": {},
     "output_type": "execute_result"
    }
   ],
   "source": [
    "type(l)"
   ]
  },
  {
   "cell_type": "code",
   "execution_count": 12,
   "id": "ca3c45f6-1e5b-4e68-a1eb-4568f9e7365f",
   "metadata": {},
   "outputs": [],
   "source": [
    "t1 = (2,4,6,8)"
   ]
  },
  {
   "cell_type": "code",
   "execution_count": 15,
   "id": "9e811fce-80bf-4b43-bfa1-281f6b6c9894",
   "metadata": {},
   "outputs": [
    {
     "data": {
      "text/plain": [
       "4"
      ]
     },
     "execution_count": 15,
     "metadata": {},
     "output_type": "execute_result"
    }
   ],
   "source": [
    "len(t1)"
   ]
  },
  {
   "cell_type": "code",
   "execution_count": 16,
   "id": "cc895e7e-0685-4a61-8a9c-c066ae70ea97",
   "metadata": {},
   "outputs": [
    {
     "data": {
      "text/plain": [
       "4"
      ]
     },
     "execution_count": 16,
     "metadata": {},
     "output_type": "execute_result"
    }
   ],
   "source": [
    "t1[1]"
   ]
  },
  {
   "cell_type": "code",
   "execution_count": 17,
   "id": "3827c4db-7b55-4add-a59b-ef94c4fc75ff",
   "metadata": {},
   "outputs": [
    {
     "data": {
      "text/plain": [
       "2"
      ]
     },
     "execution_count": 17,
     "metadata": {},
     "output_type": "execute_result"
    }
   ],
   "source": [
    "t1[0]"
   ]
  },
  {
   "cell_type": "markdown",
   "id": "e8255c89-d9d3-4896-9efb-b3bf36a1ad03",
   "metadata": {},
   "source": [
    "till here both list and tuple are pretty similar"
   ]
  },
  {
   "cell_type": "markdown",
   "id": "1bec199e-76d7-40c5-b118-166d5a1d0807",
   "metadata": {},
   "source": [
    "lets try changing value in tuple"
   ]
  },
  {
   "cell_type": "code",
   "execution_count": 19,
   "id": "2dd0705e-6d01-4828-a415-cbb85837350b",
   "metadata": {},
   "outputs": [
    {
     "ename": "TypeError",
     "evalue": "'tuple' object does not support item assignment",
     "output_type": "error",
     "traceback": [
      "\u001b[31m---------------------------------------------------------------------------\u001b[39m",
      "\u001b[31mTypeError\u001b[39m                                 Traceback (most recent call last)",
      "\u001b[36mCell\u001b[39m\u001b[36m \u001b[39m\u001b[32mIn[19]\u001b[39m\u001b[32m, line 1\u001b[39m\n\u001b[32m----> \u001b[39m\u001b[32m1\u001b[39m t1[\u001b[32m0\u001b[39m] = \u001b[32m5\u001b[39m\n",
      "\u001b[31mTypeError\u001b[39m: 'tuple' object does not support item assignment"
     ]
    }
   ],
   "source": [
    "t1[0] = 5"
   ]
  },
  {
   "cell_type": "markdown",
   "id": "4431b7bf-e69c-4a1c-ad3d-754278392b9b",
   "metadata": {},
   "source": [
    "but since tuple is immutable this is not possible"
   ]
  },
  {
   "cell_type": "markdown",
   "id": "0f962754-4921-4e2f-b17a-834c74afbfca",
   "metadata": {},
   "source": [
    "one extra plus poin in tuple is we can do packing and unpacking "
   ]
  },
  {
   "cell_type": "code",
   "execution_count": 20,
   "id": "f07c2345-7194-4186-9014-e26a2c3f75bb",
   "metadata": {},
   "outputs": [],
   "source": [
    "person = ('shashwat', 22, 'Data_scientiest')"
   ]
  },
  {
   "cell_type": "code",
   "execution_count": 21,
   "id": "8b893493-29d6-4df1-9880-3b5a268cfe94",
   "metadata": {},
   "outputs": [],
   "source": [
    "name , age , profession = person"
   ]
  },
  {
   "cell_type": "code",
   "execution_count": 22,
   "id": "1c44b082-7fa8-4312-a013-a515c3ab910e",
   "metadata": {},
   "outputs": [
    {
     "data": {
      "text/plain": [
       "22"
      ]
     },
     "execution_count": 22,
     "metadata": {},
     "output_type": "execute_result"
    }
   ],
   "source": [
    "age"
   ]
  },
  {
   "cell_type": "code",
   "execution_count": 23,
   "id": "6a09b944-c379-44b1-8ef8-ec40cb50891d",
   "metadata": {},
   "outputs": [
    {
     "data": {
      "text/plain": [
       "'shashwat'"
      ]
     },
     "execution_count": 23,
     "metadata": {},
     "output_type": "execute_result"
    }
   ],
   "source": [
    "name"
   ]
  },
  {
   "cell_type": "code",
   "execution_count": 24,
   "id": "0baac78e-3999-448c-b34a-c73f5ca095d8",
   "metadata": {},
   "outputs": [
    {
     "data": {
      "text/plain": [
       "'Data_scientiest'"
      ]
     },
     "execution_count": 24,
     "metadata": {},
     "output_type": "execute_result"
    }
   ],
   "source": [
    "profession"
   ]
  },
  {
   "cell_type": "markdown",
   "id": "03e527d9-fab1-4ec2-9e8b-5e7f44f51a96",
   "metadata": {},
   "source": [
    "something like this"
   ]
  },
  {
   "cell_type": "code",
   "execution_count": null,
   "id": "25fede4c-dc0e-459e-806e-41f85cba7410",
   "metadata": {},
   "outputs": [],
   "source": []
  }
 ],
 "metadata": {
  "kernelspec": {
   "display_name": "Python 3 (ipykernel)",
   "language": "python",
   "name": "python3"
  },
  "language_info": {
   "codemirror_mode": {
    "name": "ipython",
    "version": 3
   },
   "file_extension": ".py",
   "mimetype": "text/x-python",
   "name": "python",
   "nbconvert_exporter": "python",
   "pygments_lexer": "ipython3",
   "version": "3.13.5"
  }
 },
 "nbformat": 4,
 "nbformat_minor": 5
}
