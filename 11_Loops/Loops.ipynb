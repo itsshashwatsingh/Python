{
 "cells": [
  {
   "cell_type": "markdown",
   "id": "31de5c80-0485-4540-85f2-87d44584aa53",
   "metadata": {},
   "source": [
    "## Loops in Python\n",
    "Python has two main loops: for and while."
   ]
  },
  {
   "cell_type": "markdown",
   "id": "e0d496d3-2c1b-4c3a-8490-746045cb633f",
   "metadata": {},
   "source": [
    "## 1. For Loop\n",
    "Used to iterate over sequences like lists, tuples, and strings."
   ]
  },
  {
   "cell_type": "code",
   "execution_count": 1,
   "id": "0eb0d1ce-80a2-4035-ab7f-b2aede92e235",
   "metadata": {},
   "outputs": [
    {
     "name": "stdout",
     "output_type": "stream",
     "text": [
      "apple\n",
      "banana\n",
      "cherry\n"
     ]
    }
   ],
   "source": [
    "fruits = [\"apple\", \"banana\", \"cherry\"]\n",
    "\n",
    "for fruit in fruits:\n",
    "    print(fruit)"
   ]
  },
  {
   "cell_type": "markdown",
   "id": "f4823195-39a2-4bb9-a696-1cc6cf95df9d",
   "metadata": {},
   "source": [
    "here instead of \"fruit\" we can use anything like i,j etc"
   ]
  },
  {
   "cell_type": "code",
   "execution_count": 6,
   "id": "fadd766c-de20-4ca8-a86a-80a8e108894c",
   "metadata": {},
   "outputs": [
    {
     "name": "stdout",
     "output_type": "stream",
     "text": [
      "apple\n",
      "banana\n",
      "cherry\n"
     ]
    }
   ],
   "source": [
    "fruits = [\"apple\", \"banana\", \"cherry\"]\n",
    "\n",
    "for f in fruits:\n",
    "    print(f)"
   ]
  },
  {
   "cell_type": "markdown",
   "id": "ce0614d4-0d9d-4814-b314-430e5c63ca45",
   "metadata": {},
   "source": [
    "## Using range()"
   ]
  },
  {
   "cell_type": "code",
   "execution_count": 2,
   "id": "00153aba-6b70-4c01-932f-5ad85c71c2ad",
   "metadata": {},
   "outputs": [
    {
     "name": "stdout",
     "output_type": "stream",
     "text": [
      "0\n",
      "1\n",
      "2\n"
     ]
    }
   ],
   "source": [
    "for i in range(3):\n",
    "    print(i)  # Output: 0, 1, 2"
   ]
  },
  {
   "cell_type": "markdown",
   "id": "77c914d0-7189-4bbd-aaaf-98e674ba4fb2",
   "metadata": {},
   "source": [
    "we can also set range in our loop i.e. starting and ending point the ending point is always printed 1 less"
   ]
  },
  {
   "cell_type": "code",
   "execution_count": 5,
   "id": "bc381fa8-0deb-4050-874f-169daea67d55",
   "metadata": {},
   "outputs": [
    {
     "name": "stdout",
     "output_type": "stream",
     "text": [
      "5\n",
      "6\n",
      "7\n",
      "8\n",
      "9\n",
      "10\n"
     ]
    }
   ],
   "source": [
    "for i in range(5,11):\n",
    "    print(i)"
   ]
  },
  {
   "cell_type": "markdown",
   "id": "803d9043-27c4-4f80-8a3a-41c7182cb0fe",
   "metadata": {},
   "source": [
    "## 2. While Loop\n",
    "Runs as long as a condition is True."
   ]
  },
  {
   "cell_type": "code",
   "execution_count": 3,
   "id": "56f47096-464d-4d1c-9b8e-ec0c1a047d4f",
   "metadata": {},
   "outputs": [
    {
     "name": "stdout",
     "output_type": "stream",
     "text": [
      "0\n",
      "1\n",
      "2\n"
     ]
    }
   ],
   "source": [
    "count = 0\n",
    "while count < 3:\n",
    "    print(count)\n",
    "    count += 1"
   ]
  },
  {
   "cell_type": "markdown",
   "id": "2b499d56-2ae8-495e-8501-ebaa17eb695b",
   "metadata": {},
   "source": [
    "this is how while loops works "
   ]
  },
  {
   "cell_type": "code",
   "execution_count": 7,
   "id": "473f6c16-df96-4d83-abbd-3225b7599570",
   "metadata": {},
   "outputs": [
    {
     "name": "stdout",
     "output_type": "stream",
     "text": [
      "0\n",
      "1\n",
      "2\n",
      "3\n",
      "4\n",
      "5\n",
      "6\n",
      "7\n",
      "8\n",
      "9\n"
     ]
    }
   ],
   "source": [
    "i = 0 \n",
    "while i < 10:\n",
    "    print(i)\n",
    "    i += 1"
   ]
  },
  {
   "cell_type": "markdown",
   "id": "36d22c27-2341-4c97-a715-65569168b112",
   "metadata": {},
   "source": [
    "from range i = 0 to less than 10 i.e. till 9 it runs a loop i+1 thus prints 0 to 9"
   ]
  },
  {
   "cell_type": "markdown",
   "id": "e058d487-c7a8-4d1f-9e58-8b29b0e30362",
   "metadata": {},
   "source": [
    "## 3. Loop Control Statements\n",
    "- break → Exits the loop.\n",
    "- continue → Skips to the next iteration.\n",
    "- pass → Does nothing (used as a placeholder)."
   ]
  },
  {
   "cell_type": "code",
   "execution_count": 4,
   "id": "fc598703-6fcb-4b8e-ac45-00a0eabf7849",
   "metadata": {},
   "outputs": [
    {
     "name": "stdout",
     "output_type": "stream",
     "text": [
      "0\n",
      "1\n",
      "2\n"
     ]
    }
   ],
   "source": [
    "for i in range(5):\n",
    "    if i == 3:\n",
    "        break  # Stops the loop at 3\n",
    "    print(i)"
   ]
  },
  {
   "cell_type": "markdown",
   "id": "6822469b-e6a1-4313-85b8-a59049703b90",
   "metadata": {},
   "source": [
    "lets try some control statements "
   ]
  },
  {
   "cell_type": "code",
   "execution_count": 16,
   "id": "5c05ddfa-9a11-4f7d-b5e4-938c9d5a3067",
   "metadata": {},
   "outputs": [
    {
     "name": "stdout",
     "output_type": "stream",
     "text": [
      "hello\n"
     ]
    }
   ],
   "source": [
    "for i in fruits:\n",
    "   pass \n",
    "print(\"hello\")\n",
    "  "
   ]
  },
  {
   "cell_type": "markdown",
   "id": "f7935095-9ba2-4fa6-8f92-2544eb278792",
   "metadata": {},
   "source": [
    "here we have given a command to leave the loop (dont do any thing with loop) first print hello"
   ]
  },
  {
   "cell_type": "markdown",
   "id": "365c11bb-7095-44f1-9c55-36de98c743d9",
   "metadata": {},
   "source": [
    "we can break the loop in between of loop by setting a break point "
   ]
  },
  {
   "cell_type": "code",
   "execution_count": 19,
   "id": "414e5d3b-7183-4b87-ae77-c698654bc6b3",
   "metadata": {},
   "outputs": [
    {
     "name": "stdout",
     "output_type": "stream",
     "text": [
      "apple\n"
     ]
    }
   ],
   "source": [
    "for fruit in fruits:\n",
    "    if (fruit == \"banana\"):\n",
    "        break\n",
    "    print(fruit)\n",
    "    "
   ]
  },
  {
   "cell_type": "markdown",
   "id": "a9c331ca-9e4b-4d51-abe2-461085d6acbf",
   "metadata": {},
   "source": [
    "here the banana comes after apple therefore loop breaks after printing apple"
   ]
  },
  {
   "cell_type": "markdown",
   "id": "ade58413-05a7-4a90-8cf0-63889cbae6fd",
   "metadata": {},
   "source": [
    "also "
   ]
  },
  {
   "cell_type": "code",
   "execution_count": 20,
   "id": "ee603c87-bacc-4eb1-8dfa-59066e973a6a",
   "metadata": {},
   "outputs": [
    {
     "name": "stdout",
     "output_type": "stream",
     "text": [
      "apple\n",
      "cherry\n"
     ]
    }
   ],
   "source": [
    "for fruit in fruits:\n",
    "    if (fruit == \"banana\"):\n",
    "        continue\n",
    "    print(fruit)    \n",
    "                                    "
   ]
  },
  {
   "cell_type": "markdown",
   "id": "ed08440a-f4f5-4799-a8d3-898c3920bcfc",
   "metadata": {},
   "source": [
    "here it skips the part where value in fruits == \"banana\" and continues the loop forward "
   ]
  }
 ],
 "metadata": {
  "kernelspec": {
   "display_name": "Python 3 (ipykernel)",
   "language": "python",
   "name": "python3"
  },
  "language_info": {
   "codemirror_mode": {
    "name": "ipython",
    "version": 3
   },
   "file_extension": ".py",
   "mimetype": "text/x-python",
   "name": "python",
   "nbconvert_exporter": "python",
   "pygments_lexer": "ipython3",
   "version": "3.13.5"
  }
 },
 "nbformat": 4,
 "nbformat_minor": 5
}
