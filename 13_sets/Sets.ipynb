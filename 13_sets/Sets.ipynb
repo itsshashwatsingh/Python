{
 "cells": [
  {
   "cell_type": "markdown",
   "id": "c17b7a13-ab50-4ab4-9e45-65b312a432d2",
   "metadata": {},
   "source": [
    "# Python Sets and Set Methods\n",
    "\n",
    "## What is a Set?\n",
    "A **set** in Python is an **unordered**, **mutable**, and **unique** collection of elements. It does not allow duplicate values.\n",
    "\n",
    "### Creating a Set:\n",
    "```python\n",
    "# Empty set (must use set(), not {})\n",
    "empty_set = set()\n",
    "\n",
    "# Set with elements\n",
    "numbers = {1, 2, 3, 4, 5}\n",
    "\n",
    "# Mixed data types\n",
    "mixed_set = {1, \"Hello\", 3.14, True}\n",
    "\n",
    "# Creating a set from a list\n",
    "unique_numbers = set([1, 2, 2, 3, 4, 4, 5])\n",
    "print(unique_numbers)  # {1, 2, 3, 4, 5}\n",
    "```\n",
    "\n",
    "## Common Set Methods\n",
    "\n",
    "| Method | Description | Example |\n",
    "|--------|------------|---------|\n",
    "| `add(x)` | Adds an element `x` to the set. | `my_set.add(10)` |\n",
    "| `update(iterable)` | Adds multiple elements from an iterable. | `my_set.update([6, 7, 8])` |\n",
    "| `remove(x)` | Removes `x` from the set (raises an error if not found). | `my_set.remove(3)` |\n",
    "| `discard(x)` | Removes `x` from the set (does not raise an error if not found). | `my_set.discard(3)` |\n",
    "| `pop()` | Removes and returns a random element. | `my_set.pop()` |\n",
    "| `clear()` | Removes all elements from the set. | `my_set.clear()` |\n",
    "| `copy()` | Returns a shallow copy of the set. | `new_set = my_set.copy()` |\n",
    "\n",
    "## Set Operations\n",
    "\n",
    "| Operation | Description | Example |\n",
    "|-----------|------------|---------|\n",
    "| `union(set2)` | Returns a new set with all unique elements from both sets. | `set1.union(set2)` |\n",
    "| `intersection(set2)` | Returns a set with elements common to both sets. | `set1.intersection(set2)` |\n",
    "| `difference(set2)` | Returns a set with elements in `set1` but not in `set2`. | `set1.difference(set2)` |\n",
    "| `symmetric_difference(set2)` | Returns a set with elements in either `set1` or `set2`, but not both. | `set1.symmetric_difference(set2)` |\n",
    "| `issubset(set2)` | Returns `True` if `set1` is a subset of `set2`. | `set1.issubset(set2)` |\n",
    "| `issuperset(set2)` | Returns `True` if `set1` is a superset of `set2`. | `set1.issuperset(set2)` |\n",
    "\n",
    "## Example Usage:\n",
    "```python\n",
    "set1 = {1, 2, 3, 4}\n",
    "set2 = {3, 4, 5, 6}\n",
    "\n",
    "# Union\n",
    "print(set1 | set2)  # {1, 2, 3, 4, 5, 6}\n",
    "\n",
    "# Intersection\n",
    "print(set1 & set2)  # {3, 4}\n",
    "\n",
    "# Difference\n",
    "print(set1 - set2)  # {1, 2}\n",
    "\n",
    "# Symmetric Difference\n",
    "print(set1 ^ set2)  # {1, 2, 5, 6}\n",
    "```\n",
    "\n",
    "## Key Properties of Sets:\n",
    "- **Unordered**: No indexing or slicing.\n",
    "- **Unique Elements**: Duplicates are automatically removed.\n",
    "- **Mutable**: You can add or remove elements.\n"
   ]
  },
  {
   "cell_type": "markdown",
   "id": "365fbf55-98ec-4cd8-a784-bc54e23c64c7",
   "metadata": {},
   "source": [
    "\n",
    "empty set "
   ]
  },
  {
   "cell_type": "code",
   "execution_count": 5,
   "id": "f25529f2-2513-4cf1-9e5a-01b970447270",
   "metadata": {},
   "outputs": [],
   "source": [
    "s = set()"
   ]
  },
  {
   "cell_type": "code",
   "execution_count": 6,
   "id": "97f8f8d2-8b96-4979-8db4-8436072dd7c6",
   "metadata": {},
   "outputs": [
    {
     "data": {
      "text/plain": [
       "set()"
      ]
     },
     "execution_count": 6,
     "metadata": {},
     "output_type": "execute_result"
    }
   ],
   "source": [
    "s"
   ]
  },
  {
   "cell_type": "code",
   "execution_count": 7,
   "id": "e94cffd4-cbdf-4c28-ba4a-0b6cc0b16cae",
   "metadata": {},
   "outputs": [
    {
     "data": {
      "text/plain": [
       "set"
      ]
     },
     "execution_count": 7,
     "metadata": {},
     "output_type": "execute_result"
    }
   ],
   "source": [
    "type(s)"
   ]
  },
  {
   "cell_type": "code",
   "execution_count": 9,
   "id": "bb02a068-f121-466a-ad6f-b78ae9a184f2",
   "metadata": {},
   "outputs": [],
   "source": [
    "s1 = {4,5,6,7,4,8}"
   ]
  },
  {
   "cell_type": "markdown",
   "id": "c42cc21b-839f-480d-bd85-b47fa2ed6fca",
   "metadata": {},
   "source": [
    "here duplicate values are gonna registered only once "
   ]
  },
  {
   "cell_type": "code",
   "execution_count": 45,
   "id": "4bfc22ec-fe97-48b5-a0b4-6909f6a9cc57",
   "metadata": {},
   "outputs": [
    {
     "data": {
      "text/plain": [
       "set()"
      ]
     },
     "execution_count": 45,
     "metadata": {},
     "output_type": "execute_result"
    }
   ],
   "source": [
    "s1"
   ]
  },
  {
   "cell_type": "markdown",
   "id": "e610e973-5bf1-4ca9-94a2-c5e68f463b6c",
   "metadata": {},
   "source": [
    "all matters in set is that value exist inside that set , it only registers distinct inserted values inside set"
   ]
  },
  {
   "cell_type": "markdown",
   "id": "3b28d32e-b65f-492f-a3bc-20cd0cce3ed4",
   "metadata": {},
   "source": [
    "there is no order or index storing system"
   ]
  },
  {
   "cell_type": "markdown",
   "id": "05e90387-9397-4c59-abff-f1fc22eb61a1",
   "metadata": {},
   "source": [
    "we can also convert a list data into set data to view all distinct values of that list in a new set \n",
    "\n"
   ]
  },
  {
   "cell_type": "code",
   "execution_count": 12,
   "id": "540ac137-39b4-4743-9d27-f239b735a23c",
   "metadata": {},
   "outputs": [],
   "source": [
    "l = [55,3,4,6,5,4,3]"
   ]
  },
  {
   "cell_type": "code",
   "execution_count": 15,
   "id": "fd1a6ce6-9269-4a57-9587-0affb97fd3e5",
   "metadata": {},
   "outputs": [],
   "source": [
    "s2 = set(l)"
   ]
  },
  {
   "cell_type": "markdown",
   "id": "1db05f95-4c35-4784-9a2a-d573de75eeff",
   "metadata": {},
   "source": [
    "or "
   ]
  },
  {
   "cell_type": "code",
   "execution_count": 16,
   "id": "e00c550a-73aa-45c0-b1f6-d9bc29b8205a",
   "metadata": {},
   "outputs": [
    {
     "data": {
      "text/plain": [
       "{3, 4, 5, 6, 55}"
      ]
     },
     "execution_count": 16,
     "metadata": {},
     "output_type": "execute_result"
    }
   ],
   "source": [
    "set(l)"
   ]
  },
  {
   "cell_type": "markdown",
   "id": "538a8037-82ba-4246-b126-7dbfcfcd7910",
   "metadata": {},
   "source": [
    "we can also add elements in our set using add"
   ]
  },
  {
   "cell_type": "code",
   "execution_count": 17,
   "id": "fe834f68-059d-4501-8eda-3ca8b3704b71",
   "metadata": {},
   "outputs": [],
   "source": [
    "s1.add(34)"
   ]
  },
  {
   "cell_type": "code",
   "execution_count": 18,
   "id": "8d86a198-0e20-4d91-b00a-8f12c9b5e6cf",
   "metadata": {},
   "outputs": [
    {
     "data": {
      "text/plain": [
       "{4, 5, 6, 7, 8, 34}"
      ]
     },
     "execution_count": 18,
     "metadata": {},
     "output_type": "execute_result"
    }
   ],
   "source": [
    "s1"
   ]
  },
  {
   "cell_type": "markdown",
   "id": "dd10ac58-d921-4773-8fec-ce9c508ec7a9",
   "metadata": {},
   "source": [
    "we can also add multiple elements in or set at once using update "
   ]
  },
  {
   "cell_type": "code",
   "execution_count": 20,
   "id": "e0f09b07-1315-4b12-a147-78c1871684e3",
   "metadata": {},
   "outputs": [],
   "source": [
    "s1.update([200,300,21])"
   ]
  },
  {
   "cell_type": "code",
   "execution_count": 21,
   "id": "e99fb863-bdb8-4ce3-8188-fbd19660d331",
   "metadata": {},
   "outputs": [
    {
     "data": {
      "text/plain": [
       "{4, 5, 6, 7, 8, 21, 34, 200, 300}"
      ]
     },
     "execution_count": 21,
     "metadata": {},
     "output_type": "execute_result"
    }
   ],
   "source": [
    "s1"
   ]
  },
  {
   "cell_type": "markdown",
   "id": "904c172a-6ee0-4660-b358-d4fa986a466d",
   "metadata": {},
   "source": [
    "make sure to create a list of multiple value which you want to update in your set,if value already exist in set it will not be registered"
   ]
  },
  {
   "cell_type": "markdown",
   "id": "454e4da7-f149-4e4a-b4e5-01dfb52f11bc",
   "metadata": {},
   "source": [
    "remove and discard"
   ]
  },
  {
   "cell_type": "markdown",
   "id": "8d31e29d-f758-4b48-9524-915680318518",
   "metadata": {},
   "source": [
    "remove shows error if element doesnot exist, if exist it removes"
   ]
  },
  {
   "cell_type": "code",
   "execution_count": 22,
   "id": "d4ec35b6-703a-4f6f-bd04-94f81d9cfcef",
   "metadata": {},
   "outputs": [
    {
     "ename": "KeyError",
     "evalue": "25",
     "output_type": "error",
     "traceback": [
      "\u001b[31m---------------------------------------------------------------------------\u001b[39m",
      "\u001b[31mKeyError\u001b[39m                                  Traceback (most recent call last)",
      "\u001b[36mCell\u001b[39m\u001b[36m \u001b[39m\u001b[32mIn[22]\u001b[39m\u001b[32m, line 1\u001b[39m\n\u001b[32m----> \u001b[39m\u001b[32m1\u001b[39m s1.remove(\u001b[32m25\u001b[39m)\n",
      "\u001b[31mKeyError\u001b[39m: 25"
     ]
    }
   ],
   "source": [
    "s1.remove(25)"
   ]
  },
  {
   "cell_type": "markdown",
   "id": "3a2f307c-7309-4c92-ac6b-27476aaf0b3f",
   "metadata": {},
   "source": [
    "discard does not show any error if does not exist if exist it removes "
   ]
  },
  {
   "cell_type": "code",
   "execution_count": 26,
   "id": "be3283a5-3146-43f8-98cc-1028df461a60",
   "metadata": {},
   "outputs": [],
   "source": [
    "s1.discard(25)"
   ]
  },
  {
   "cell_type": "code",
   "execution_count": 28,
   "id": "4693fe8f-378f-4728-a7ab-d957472476b1",
   "metadata": {},
   "outputs": [
    {
     "data": {
      "text/plain": [
       "4"
      ]
     },
     "execution_count": 28,
     "metadata": {},
     "output_type": "execute_result"
    }
   ],
   "source": [
    "s1.pop()"
   ]
  },
  {
   "cell_type": "markdown",
   "id": "3ce39dd9-5b92-4cc3-bd2c-da800c92810f",
   "metadata": {},
   "source": [
    "pop removes and returns a random element of set"
   ]
  },
  {
   "cell_type": "code",
   "execution_count": 30,
   "id": "f36c4952-2058-4963-81ca-02cf136d6e33",
   "metadata": {},
   "outputs": [],
   "source": [
    "s1.clear()"
   ]
  },
  {
   "cell_type": "markdown",
   "id": "dd91a06d-4cf3-4714-b92f-585eb58ab94e",
   "metadata": {},
   "source": [
    "it clears the entire set"
   ]
  },
  {
   "cell_type": "code",
   "execution_count": 31,
   "id": "851ccb3d-f1ad-4b2c-83ee-f44b6f78f3d8",
   "metadata": {},
   "outputs": [
    {
     "data": {
      "text/plain": [
       "set()"
      ]
     },
     "execution_count": 31,
     "metadata": {},
     "output_type": "execute_result"
    }
   ],
   "source": [
    "s1"
   ]
  },
  {
   "cell_type": "markdown",
   "id": "3093a9e8-90c2-4aab-8fc7-0fe40a5cd6d6",
   "metadata": {},
   "source": [
    "now our set is empty"
   ]
  },
  {
   "cell_type": "markdown",
   "id": "5af65a60-63cb-4165-8018-12540743a623",
   "metadata": {},
   "source": [
    "we can also create a copy of set as well"
   ]
  },
  {
   "cell_type": "code",
   "execution_count": 35,
   "id": "27659cfa-fc63-45e2-b87a-930b76bdaae2",
   "metadata": {},
   "outputs": [],
   "source": [
    "new_set = s2.copy()"
   ]
  },
  {
   "cell_type": "code",
   "execution_count": 36,
   "id": "422a87e8-789a-4eb1-836a-1b41e80ce768",
   "metadata": {},
   "outputs": [
    {
     "data": {
      "text/plain": [
       "{3, 4, 5, 6, 55}"
      ]
     },
     "execution_count": 36,
     "metadata": {},
     "output_type": "execute_result"
    }
   ],
   "source": [
    "new_set"
   ]
  },
  {
   "cell_type": "markdown",
   "id": "cc2f78db-0bf9-4cb5-a719-e30f72d8804f",
   "metadata": {},
   "source": [
    "union "
   ]
  },
  {
   "cell_type": "markdown",
   "id": "cd834456-7c52-4103-b68c-8ace4cf091e5",
   "metadata": {},
   "source": [
    "lets create two sets and union them"
   ]
  },
  {
   "cell_type": "code",
   "execution_count": 37,
   "id": "ee474fcf-eb9f-4960-9157-b65a5f6247ca",
   "metadata": {},
   "outputs": [],
   "source": [
    "a = {3,4,5,6}\n",
    "b = {5,6,7,8}"
   ]
  },
  {
   "cell_type": "code",
   "execution_count": 38,
   "id": "7bd1a553-26e4-4e44-bd02-86732fe26954",
   "metadata": {},
   "outputs": [
    {
     "data": {
      "text/plain": [
       "{3, 4, 5, 6, 7, 8}"
      ]
     },
     "execution_count": 38,
     "metadata": {},
     "output_type": "execute_result"
    }
   ],
   "source": [
    "a.union(b)"
   ]
  },
  {
   "cell_type": "markdown",
   "id": "b529511e-1292-4823-ac52-48eda5ded2e6",
   "metadata": {},
   "source": [
    "adds the two set togeter ofcourse there will be no duplicates"
   ]
  },
  {
   "cell_type": "markdown",
   "id": "2c1353e0-a36f-4bd2-9fb1-2d81487db5fb",
   "metadata": {},
   "source": [
    "lets try intersection"
   ]
  },
  {
   "cell_type": "code",
   "execution_count": 40,
   "id": "b1f07ec8-8800-4177-884f-248b304fedba",
   "metadata": {},
   "outputs": [
    {
     "data": {
      "text/plain": [
       "{5, 6}"
      ]
     },
     "execution_count": 40,
     "metadata": {},
     "output_type": "execute_result"
    }
   ],
   "source": [
    "a.intersection(b)"
   ]
  },
  {
   "cell_type": "markdown",
   "id": "110cff31-1134-4cc3-b487-69d711f15dbd",
   "metadata": {},
   "source": [
    "this only return common values from both sets"
   ]
  },
  {
   "cell_type": "code",
   "execution_count": 41,
   "id": "f3eacf04-16e4-4e79-bc94-d7e303922d22",
   "metadata": {},
   "outputs": [
    {
     "data": {
      "text/plain": [
       "{3, 4, 7, 8}"
      ]
     },
     "execution_count": 41,
     "metadata": {},
     "output_type": "execute_result"
    }
   ],
   "source": [
    "a.symmetric_difference(b)"
   ]
  },
  {
   "cell_type": "markdown",
   "id": "2764fb97-1e99-45ad-bb34-459192870baf",
   "metadata": {},
   "source": [
    "this gives symmetric amount of elements from both sets"
   ]
  },
  {
   "cell_type": "markdown",
   "id": "174593b4-077b-4795-9d1a-fbfc8b6548eb",
   "metadata": {},
   "source": [
    "lets learn about issubset(set2) and issuperset(set2)"
   ]
  },
  {
   "cell_type": "code",
   "execution_count": 42,
   "id": "45f7a81b-70d8-463a-8bd5-69874ebf348c",
   "metadata": {},
   "outputs": [],
   "source": [
    "sub ={3,4}"
   ]
  },
  {
   "cell_type": "code",
   "execution_count": 43,
   "id": "0e1d7483-5023-426b-9819-a7d015de18e1",
   "metadata": {},
   "outputs": [
    {
     "data": {
      "text/plain": [
       "True"
      ]
     },
     "execution_count": 43,
     "metadata": {},
     "output_type": "execute_result"
    }
   ],
   "source": [
    "sub.issubset(a)"
   ]
  },
  {
   "cell_type": "markdown",
   "id": "a742e400-3781-46db-b769-b55ad20b8890",
   "metadata": {},
   "source": [
    "since sub is subset of a it returns true if not it will return false"
   ]
  },
  {
   "cell_type": "code",
   "execution_count": 44,
   "id": "45529306-ba3b-42ba-a8dd-f1c4b946938f",
   "metadata": {},
   "outputs": [
    {
     "data": {
      "text/plain": [
       "True"
      ]
     },
     "execution_count": 44,
     "metadata": {},
     "output_type": "execute_result"
    }
   ],
   "source": [
    "a.issuperset(sub)"
   ]
  },
  {
   "cell_type": "markdown",
   "id": "b8838b8f-3880-430d-a0cb-793dd83c4da7",
   "metadata": {},
   "source": [
    "since a is superset of sub it retuns true and if not it will return false"
   ]
  },
  {
   "cell_type": "markdown",
   "id": "0f40d560-09b3-447f-ae78-9844e45d2dac",
   "metadata": {},
   "source": [
    "difference"
   ]
  },
  {
   "cell_type": "code",
   "execution_count": 46,
   "id": "88b8c6b4-a76d-4497-910b-b6492987a159",
   "metadata": {},
   "outputs": [
    {
     "data": {
      "text/plain": [
       "{3, 4}"
      ]
     },
     "execution_count": 46,
     "metadata": {},
     "output_type": "execute_result"
    }
   ],
   "source": [
    "a - b"
   ]
  },
  {
   "cell_type": "markdown",
   "id": "e0fa68fc-5409-4c44-99dc-a6d98bd008df",
   "metadata": {},
   "source": [
    "union"
   ]
  },
  {
   "cell_type": "code",
   "execution_count": 47,
   "id": "c4b2c530-f11f-4280-ac80-66efe9d7db0f",
   "metadata": {},
   "outputs": [
    {
     "data": {
      "text/plain": [
       "{3, 4, 5, 6, 7, 8}"
      ]
     },
     "execution_count": 47,
     "metadata": {},
     "output_type": "execute_result"
    }
   ],
   "source": [
    "a | b"
   ]
  },
  {
   "cell_type": "code",
   "execution_count": 48,
   "id": "a84364b1-483d-43b4-814e-541d3ce8cb52",
   "metadata": {},
   "outputs": [
    {
     "data": {
      "text/plain": [
       "{5, 6}"
      ]
     },
     "execution_count": 48,
     "metadata": {},
     "output_type": "execute_result"
    }
   ],
   "source": [
    "a & b"
   ]
  },
  {
   "cell_type": "markdown",
   "id": "c1465241-d396-4dac-9029-6e3581d1769f",
   "metadata": {},
   "source": [
    "these are the short cuts of using union intersection and difference can we to add as well lets try"
   ]
  },
  {
   "cell_type": "code",
   "execution_count": 49,
   "id": "7c35bffd-077e-476e-a386-55a811c4f4c7",
   "metadata": {},
   "outputs": [
    {
     "ename": "TypeError",
     "evalue": "unsupported operand type(s) for +: 'set' and 'set'",
     "output_type": "error",
     "traceback": [
      "\u001b[31m---------------------------------------------------------------------------\u001b[39m",
      "\u001b[31mTypeError\u001b[39m                                 Traceback (most recent call last)",
      "\u001b[36mCell\u001b[39m\u001b[36m \u001b[39m\u001b[32mIn[49]\u001b[39m\u001b[32m, line 1\u001b[39m\n\u001b[32m----> \u001b[39m\u001b[32m1\u001b[39m a + b\n",
      "\u001b[31mTypeError\u001b[39m: unsupported operand type(s) for +: 'set' and 'set'"
     ]
    }
   ],
   "source": [
    "a + b"
   ]
  },
  {
   "cell_type": "markdown",
   "id": "5c42532e-a78d-4003-85f2-45a78f1c7c1e",
   "metadata": {},
   "source": [
    "no it doesnot work like that in set it works in lists only "
   ]
  }
 ],
 "metadata": {
  "kernelspec": {
   "display_name": "Python 3 (ipykernel)",
   "language": "python",
   "name": "python3"
  },
  "language_info": {
   "codemirror_mode": {
    "name": "ipython",
    "version": 3
   },
   "file_extension": ".py",
   "mimetype": "text/x-python",
   "name": "python",
   "nbconvert_exporter": "python",
   "pygments_lexer": "ipython3",
   "version": "3.13.5"
  }
 },
 "nbformat": 4,
 "nbformat_minor": 5
}
