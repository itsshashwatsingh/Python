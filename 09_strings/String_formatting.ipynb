{
 "cells": [
  {
   "cell_type": "markdown",
   "id": "e1a8d55c-76f0-4a30-b877-a466b75f32ed",
   "metadata": {},
   "source": [
    "## String formatting and f-string"
   ]
  },
  {
   "cell_type": "markdown",
   "id": "1743a216-b095-49a0-85b8-27c9c21df8ed",
   "metadata": {},
   "source": [
    "string is immutable which means we cannot change string values"
   ]
  },
  {
   "cell_type": "code",
   "execution_count": 1,
   "id": "12889b39-1d67-4601-acd3-6684d76cf27c",
   "metadata": {},
   "outputs": [],
   "source": [
    "a = \"shashwat\""
   ]
  },
  {
   "cell_type": "code",
   "execution_count": 3,
   "id": "e6a72362-dd86-4f14-9a14-d54d67b38e98",
   "metadata": {},
   "outputs": [
    {
     "ename": "TypeError",
     "evalue": "'str' object does not support item assignment",
     "output_type": "error",
     "traceback": [
      "\u001b[31m---------------------------------------------------------------------------\u001b[39m",
      "\u001b[31mTypeError\u001b[39m                                 Traceback (most recent call last)",
      "\u001b[36mCell\u001b[39m\u001b[36m \u001b[39m\u001b[32mIn[3]\u001b[39m\u001b[32m, line 1\u001b[39m\n\u001b[32m----> \u001b[39m\u001b[32m1\u001b[39m a[\u001b[32m2\u001b[39m] = \u001b[33m'\u001b[39m\u001b[33ms\u001b[39m\u001b[33m'\u001b[39m\n",
      "\u001b[31mTypeError\u001b[39m: 'str' object does not support item assignment"
     ]
    }
   ],
   "source": [
    "a[2] = 's'"
   ]
  },
  {
   "cell_type": "markdown",
   "id": "f5534cbd-3b94-41cb-8d32-87fa883edb8a",
   "metadata": {},
   "source": [
    "this is not possible "
   ]
  },
  {
   "cell_type": "markdown",
   "id": "1257fcd6-beab-4844-9fd6-dfa0cd36da65",
   "metadata": {},
   "source": [
    "but we have changed string previously right?"
   ]
  },
  {
   "cell_type": "markdown",
   "id": "760ff33c-7212-445d-b82c-dc62b8091375",
   "metadata": {},
   "source": [
    "No, we didn't"
   ]
  },
  {
   "cell_type": "code",
   "execution_count": 4,
   "id": "f9a88af8-533d-435a-bc6a-db5d7c9736a6",
   "metadata": {},
   "outputs": [
    {
     "data": {
      "text/plain": [
       "'SHASHWAT'"
      ]
     },
     "execution_count": 4,
     "metadata": {},
     "output_type": "execute_result"
    }
   ],
   "source": [
    "a.upper()"
   ]
  },
  {
   "cell_type": "markdown",
   "id": "2992c719-aad5-4184-903c-cc34ede9eef8",
   "metadata": {},
   "source": [
    "here the a new duplicate string is created and \n",
    "changes are applied in that \n",
    "dublicate of string variable \"a\" and not in actual string \"a\""
   ]
  },
  {
   "cell_type": "markdown",
   "id": "94936bc4-50ec-4f30-981a-7c9ead21e9a1",
   "metadata": {},
   "source": [
    "## sting formating in python "
   ]
  },
  {
   "cell_type": "code",
   "execution_count": 5,
   "id": "6a7e6b91-73df-4bf9-93e7-c8499db65541",
   "metadata": {},
   "outputs": [
    {
     "data": {
      "text/plain": [
       "'My name is john and I am 45 years old '"
      ]
     },
     "execution_count": 5,
     "metadata": {},
     "output_type": "execute_result"
    }
   ],
   "source": [
    "name = \"john\" \n",
    "age = 45\n",
    "\"My name is {} and I am {} years old \".format(name,age)"
   ]
  },
  {
   "cell_type": "markdown",
   "id": "0e2624f0-9308-45c1-8c52-4ead25c7bcd6",
   "metadata": {},
   "source": [
    "this is how its done using .format(),but there is an easier way to do it as well  "
   ]
  },
  {
   "cell_type": "markdown",
   "id": "758881ac-4f9d-4f9d-88be-684080d5a2fa",
   "metadata": {},
   "source": [
    "## f-String"
   ]
  },
  {
   "cell_type": "code",
   "execution_count": 7,
   "id": "47025ffb-55d7-4e64-ba2e-6abb29a56057",
   "metadata": {},
   "outputs": [
    {
     "data": {
      "text/plain": [
       "'My name is john and I am 45 years old'"
      ]
     },
     "execution_count": 7,
     "metadata": {},
     "output_type": "execute_result"
    }
   ],
   "source": [
    "f\"My name is {name} and I am {age} years old\""
   ]
  },
  {
   "cell_type": "markdown",
   "id": "d0470012-31fa-4040-8188-40d3d424f1bc",
   "metadata": {},
   "source": [
    "using f in front of string makes it an f string "
   ]
  },
  {
   "cell_type": "markdown",
   "id": "1448912c-cb8d-4628-af28-615df35e201b",
   "metadata": {},
   "source": [
    "## rounding off decimal using f string"
   ]
  },
  {
   "cell_type": "markdown",
   "id": "a04e6bbc-c066-467c-a6c2-2b7b6074f5a1",
   "metadata": {},
   "source": [
    "f- string can also be used to round off the decimal values"
   ]
  },
  {
   "cell_type": "code",
   "execution_count": 9,
   "id": "3676f345-cad2-48f2-874c-eede09ad9742",
   "metadata": {},
   "outputs": [],
   "source": [
    "pi = 3.14159"
   ]
  },
  {
   "cell_type": "code",
   "execution_count": 13,
   "id": "f0e50fe9-97dc-4c02-9bf3-e19d7f158161",
   "metadata": {},
   "outputs": [
    {
     "data": {
      "text/plain": [
       "'3.14'"
      ]
     },
     "execution_count": 13,
     "metadata": {},
     "output_type": "execute_result"
    }
   ],
   "source": [
    "f\"{pi:.2f}\""
   ]
  },
  {
   "cell_type": "code",
   "execution_count": 14,
   "id": "879f5be9-1ee2-4307-847a-0799f528b4ff",
   "metadata": {},
   "outputs": [
    {
     "data": {
      "text/plain": [
       "'pi rounded to 2 decimal places:3.14'"
      ]
     },
     "execution_count": 14,
     "metadata": {},
     "output_type": "execute_result"
    }
   ],
   "source": [
    "f\"pi rounded to 2 decimal places:{pi:.2f}\""
   ]
  },
  {
   "cell_type": "markdown",
   "id": "e09dbef3-efab-4667-ab00-eea7caf04958",
   "metadata": {},
   "source": [
    "we can also align strings using f-string"
   ]
  },
  {
   "cell_type": "code",
   "execution_count": 16,
   "id": "f9481d1e-b5f7-4f90-ad22-8e0603de6bd3",
   "metadata": {},
   "outputs": [
    {
     "data": {
      "text/plain": [
       "'python    '"
      ]
     },
     "execution_count": 16,
     "metadata": {},
     "output_type": "execute_result"
    }
   ],
   "source": [
    "f\"{'python':<10}\" #left alight python"
   ]
  },
  {
   "cell_type": "code",
   "execution_count": 17,
   "id": "3cee624e-d0ba-4551-8c9f-80faee135e3d",
   "metadata": {},
   "outputs": [
    {
     "data": {
      "text/plain": [
       "'    python'"
      ]
     },
     "execution_count": 17,
     "metadata": {},
     "output_type": "execute_result"
    }
   ],
   "source": [
    "f\"{'python':>10}\" #right alight python"
   ]
  },
  {
   "cell_type": "code",
   "execution_count": 20,
   "id": "f2b55d5c-6b6b-45f1-871a-36f2e994fae8",
   "metadata": {},
   "outputs": [
    {
     "data": {
      "text/plain": [
       "'  python  '"
      ]
     },
     "execution_count": 20,
     "metadata": {},
     "output_type": "execute_result"
    }
   ],
   "source": [
    "f\"{'python':^10}\" #right alight python"
   ]
  }
 ],
 "metadata": {
  "kernelspec": {
   "display_name": "Python 3 (ipykernel)",
   "language": "python",
   "name": "python3"
  },
  "language_info": {
   "codemirror_mode": {
    "name": "ipython",
    "version": 3
   },
   "file_extension": ".py",
   "mimetype": "text/x-python",
   "name": "python",
   "nbconvert_exporter": "python",
   "pygments_lexer": "ipython3",
   "version": "3.13.5"
  }
 },
 "nbformat": 4,
 "nbformat_minor": 5
}
