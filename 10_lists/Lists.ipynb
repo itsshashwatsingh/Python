{
 "cells": [
  {
   "cell_type": "markdown",
   "id": "3cd8ebc5-db24-46a1-93af-4cc4660883f8",
   "metadata": {},
   "source": [
    "## List and List Methods\n",
    "A list in Python is an ordered, mutable collection of elements. It can contain elements of different types.\n",
    "\n"
   ]
  },
  {
   "cell_type": "markdown",
   "id": "368300a8-ef8d-465a-a184-d2e14dd172e9",
   "metadata": {},
   "source": [
    "Creating a List:"
   ]
  },
  {
   "cell_type": "code",
   "execution_count": 15,
   "id": "8998fb39-d0fe-4cbb-9686-3cb4cd2f806a",
   "metadata": {},
   "outputs": [],
   "source": [
    "\n",
    "# Empty list\n",
    "my_list = []\n",
    " \n",
    "# List with elements\n",
    "numbers = [1, 2, 3, 4, 5]\n",
    " \n",
    "# Mixed data types\n",
    "mixed_list = [1, \"Hello\", 3.14, True]\n",
    "\n"
   ]
  },
  {
   "cell_type": "markdown",
   "id": "be014f68-7730-4346-8c0d-fcb4c438fde9",
   "metadata": {},
   "source": [
    "## Common List Methods\n",
    "\n"
   ]
  },
  {
   "cell_type": "markdown",
   "id": "c8e1c908-c3cd-462a-960d-9da5b91b05c0",
   "metadata": {},
   "source": [
    "Method\tDescription\tExample\n",
    "- append(x)\tAdds an element x to the end of the list.\tmy_list.append(10)\n",
    "  \n",
    "- extend(iterable)\tExtends the list by appending all elements from an iterable.\tmy_list.extend([6, 7, 8])\n",
    "  \n",
    "- insert(index, x)\tInserts x at the specified index.\tmy_list.insert(2, \"Python\")\n",
    "  \n",
    "- remove(x)\tRemoves the first occurrence of x in the list.\tmy_list.remove(3)\n",
    "\n",
    "- pop([index])\tRemoves and returns the element at index (last element if index is not provided).\tmy_list.pop(2)\n",
    "\n",
    "- index(x)\tReturns the index of the first occurrence of x.\tmy_list.index(4)\n",
    "\n",
    "- count(x)\tReturns the number of times x appears in the list.\tmy_list.count(2)\n",
    "\n",
    "- sort()\tSorts the list in ascending order.\tmy_list.sort()\n",
    "\n",
    "- reverse()\tReverses the order of the list.\tmy_list.reverse()\n",
    "\n",
    "- copy()\tReturns a shallow copy of the list.\tnew_list = my_list.copy()\n",
    "\n",
    "- clear()\tRemoves all elements from the list.\tmy_list.clear()\n",
    "\n",
    "- Example Usage:"
   ]
  },
  {
   "cell_type": "code",
   "execution_count": 12,
   "id": "f8bb0569-3caf-4601-bc81-4e54fb7e4616",
   "metadata": {},
   "outputs": [
    {
     "name": "stdout",
     "output_type": "stream",
     "text": [
      "['apple', 'banana', 'cherry', 'orange']\n"
     ]
    }
   ],
   "source": [
    "fruits = [\"apple\", \"banana\", \"cherry\"]\n",
    "fruits.append(\"orange\")\n",
    "print(fruits)  \n",
    "\n",
    " "
   ]
  },
  {
   "cell_type": "code",
   "execution_count": 13,
   "id": "a315ed3d-3f41-470b-8698-7dba54615396",
   "metadata": {},
   "outputs": [
    {
     "name": "stdout",
     "output_type": "stream",
     "text": [
      "['apple', 'banana', 'cherry', 'orange']\n"
     ]
    }
   ],
   "source": [
    "fruits.sort()\n",
    "print(fruits) "
   ]
  },
  {
   "cell_type": "markdown",
   "id": "000b1de5-d245-4b52-9e31-20424e5498da",
   "metadata": {},
   "source": [
    "lists are arrays is other programming languages and kind of similar to string but strings are immutable but lists are mutable"
   ]
  },
  {
   "cell_type": "code",
   "execution_count": 1,
   "id": "dce751c1-60ee-463d-97bc-f28fb3bdf260",
   "metadata": {},
   "outputs": [],
   "source": [
    "l = [2,3,4,5,6]\n"
   ]
  },
  {
   "cell_type": "code",
   "execution_count": 2,
   "id": "fa100a6b-d73c-46c5-9c53-3c3759b6c132",
   "metadata": {},
   "outputs": [
    {
     "data": {
      "text/plain": [
       "2"
      ]
     },
     "execution_count": 2,
     "metadata": {},
     "output_type": "execute_result"
    }
   ],
   "source": [
    "l[0]"
   ]
  },
  {
   "cell_type": "markdown",
   "id": "e5451fbb-0420-4726-bebd-d91c901149a4",
   "metadata": {},
   "source": [
    "just like arrays in c++ and javaScript"
   ]
  },
  {
   "cell_type": "markdown",
   "id": "c9faa083-65eb-45b6-bf78-8d03861a473f",
   "metadata": {},
   "source": [
    "lists are in most cases mutable which means changes applied in lists are actually bieng applied on orignal list variable no dublicates are created like string\n"
   ]
  },
  {
   "cell_type": "code",
   "execution_count": 3,
   "id": "a3ef950f-88ee-4e23-af29-f7ffa3938ad6",
   "metadata": {},
   "outputs": [],
   "source": [
    "l.append(9)"
   ]
  },
  {
   "cell_type": "code",
   "execution_count": 4,
   "id": "83c82f14-0967-4fb8-b3a8-092d4babf034",
   "metadata": {},
   "outputs": [
    {
     "data": {
      "text/plain": [
       "[2, 3, 4, 5, 6, 9]"
      ]
     },
     "execution_count": 4,
     "metadata": {},
     "output_type": "execute_result"
    }
   ],
   "source": [
    "l"
   ]
  },
  {
   "cell_type": "markdown",
   "id": "f01ff804-c77a-4217-ba8f-3d63c7db465d",
   "metadata": {},
   "source": [
    "here we applied an append function to append 9 inside the lists and the change is being applied to the orignal list"
   ]
  },
  {
   "cell_type": "code",
   "execution_count": 6,
   "id": "ab2e6a60-a4ec-414d-ad29-5ae6ca6a4d7e",
   "metadata": {},
   "outputs": [],
   "source": [
    "l2 = [7,8]\n"
   ]
  },
  {
   "cell_type": "markdown",
   "id": "345f2127-b507-426e-914c-038033669f98",
   "metadata": {},
   "source": [
    "now lets add this 'l2' to our lists 'l' that is now [1,2,3,4,5,6,9] by using extend list function "
   ]
  },
  {
   "cell_type": "code",
   "execution_count": 10,
   "id": "ce3eb1e4-b5a7-4c9b-931e-3fd194f46efb",
   "metadata": {},
   "outputs": [],
   "source": [
    "l.extend(l2)"
   ]
  },
  {
   "cell_type": "code",
   "execution_count": 11,
   "id": "67faaeb9-42d8-4500-83f7-1045dd8e58a2",
   "metadata": {},
   "outputs": [
    {
     "data": {
      "text/plain": [
       "[2, 3, 4, 5, 6, 9, 7, 8, 7, 8]"
      ]
     },
     "execution_count": 11,
     "metadata": {},
     "output_type": "execute_result"
    }
   ],
   "source": [
    " l "
   ]
  },
  {
   "cell_type": "markdown",
   "id": "c51002e2-bf02-406a-ba9a-297ee735a96a",
   "metadata": {},
   "source": [
    "now changes has been applied twice i orignal 'l' which has become from this [2,3,4,5,6] to this [2, 3, 4, 5, 6, 9, 7, 8]"
   ]
  },
  {
   "cell_type": "code",
   "execution_count": 16,
   "id": "2c310d3f-3e06-46cd-b997-bd696a9bb82a",
   "metadata": {},
   "outputs": [],
   "source": [
    "l.insert(1,200) # insert 200 in index 1 without removing or repacing any values"
   ]
  },
  {
   "cell_type": "code",
   "execution_count": 17,
   "id": "9994bdeb-7e65-4fe8-a7a1-370c4204d4ff",
   "metadata": {},
   "outputs": [
    {
     "data": {
      "text/plain": [
       "[2, 200, 3, 4, 5, 6, 9, 7, 8, 7, 8]"
      ]
     },
     "execution_count": 17,
     "metadata": {},
     "output_type": "execute_result"
    }
   ],
   "source": [
    "l"
   ]
  },
  {
   "cell_type": "code",
   "execution_count": 18,
   "id": "37415e57-8e55-4880-a62e-7ac5d2c6e30d",
   "metadata": {},
   "outputs": [],
   "source": [
    "number = l.pop(4)"
   ]
  },
  {
   "cell_type": "code",
   "execution_count": 19,
   "id": "0d6d7a46-6e1c-42cf-b41e-15b5f20d1558",
   "metadata": {},
   "outputs": [
    {
     "data": {
      "text/plain": [
       "5"
      ]
     },
     "execution_count": 19,
     "metadata": {},
     "output_type": "execute_result"
    }
   ],
   "source": [
    "number"
   ]
  },
  {
   "cell_type": "markdown",
   "id": "06907997-9b8f-4de9-9207-6951f9521af5",
   "metadata": {},
   "source": [
    "here \"number\" variable is now storing a value which we inserted from list \"l\" using pop list function  "
   ]
  },
  {
   "cell_type": "code",
   "execution_count": 20,
   "id": "0c07c68c-bd41-49fe-b849-166c69fa966b",
   "metadata": {},
   "outputs": [
    {
     "data": {
      "text/plain": [
       "1"
      ]
     },
     "execution_count": 20,
     "metadata": {},
     "output_type": "execute_result"
    }
   ],
   "source": [
    "l.index(200)"
   ]
  },
  {
   "cell_type": "markdown",
   "id": "6b60d1bc-9034-42ad-b6dc-882338e52cc1",
   "metadata": {},
   "source": [
    "this shows the index in which a perticular and  value is stored  "
   ]
  },
  {
   "cell_type": "code",
   "execution_count": 21,
   "id": "28a84f1f-6be7-487c-820d-8210f9576b05",
   "metadata": {},
   "outputs": [],
   "source": [
    "l.sort()\n"
   ]
  },
  {
   "cell_type": "code",
   "execution_count": 22,
   "id": "addc925c-6c7d-460c-93f1-42bb20c256b6",
   "metadata": {},
   "outputs": [
    {
     "data": {
      "text/plain": [
       "[2, 3, 4, 6, 7, 7, 8, 8, 9, 200]"
      ]
     },
     "execution_count": 22,
     "metadata": {},
     "output_type": "execute_result"
    }
   ],
   "source": [
    "l"
   ]
  },
  {
   "cell_type": "markdown",
   "id": "bd595d80-1eb9-43af-a1db-8f0457bd8d04",
   "metadata": {},
   "source": [
    "to sort the list values in asc order"
   ]
  },
  {
   "cell_type": "code",
   "execution_count": 24,
   "id": "3a33817f-0e58-4dd4-8043-1b694eff6681",
   "metadata": {},
   "outputs": [
    {
     "data": {
      "text/plain": [
       "[2, 3, 4, 6, 7, 7, 8, 8, 9, 200]"
      ]
     },
     "execution_count": 24,
     "metadata": {},
     "output_type": "execute_result"
    }
   ],
   "source": [
    "sorted(l)"
   ]
  },
  {
   "cell_type": "markdown",
   "id": "35bae328-7649-4665-9d50-09ed01e3972f",
   "metadata": {},
   "source": [
    "this returns a duplicate sorted value list it doesnot change actual list "
   ]
  },
  {
   "cell_type": "code",
   "execution_count": 26,
   "id": "cfd6c0b0-c1fe-4950-a224-31d276e1e09f",
   "metadata": {},
   "outputs": [],
   "source": [
    "newl = [5,8,11,44,200,3,21]"
   ]
  },
  {
   "cell_type": "code",
   "execution_count": 27,
   "id": "54d2a59f-5108-4478-83d8-81f3f34f2675",
   "metadata": {},
   "outputs": [
    {
     "data": {
      "text/plain": [
       "[3, 5, 8, 11, 21, 44, 200]"
      ]
     },
     "execution_count": 27,
     "metadata": {},
     "output_type": "execute_result"
    }
   ],
   "source": [
    "sorted(newl)"
   ]
  },
  {
   "cell_type": "markdown",
   "id": "d64310be-d9bd-4e2b-a5e4-a2353642b646",
   "metadata": {},
   "source": [
    "here if we checck the actual list then we will see that "
   ]
  },
  {
   "cell_type": "code",
   "execution_count": 28,
   "id": "ca5462d3-9dcd-46c8-98fa-14f0a2cd60a5",
   "metadata": {},
   "outputs": [
    {
     "data": {
      "text/plain": [
       "[5, 8, 11, 44, 200, 3, 21]"
      ]
     },
     "execution_count": 28,
     "metadata": {},
     "output_type": "execute_result"
    }
   ],
   "source": [
    "newl"
   ]
  },
  {
   "cell_type": "markdown",
   "id": "7a65e72c-e732-4d7b-8db1-42ae8aeee5d6",
   "metadata": {},
   "source": [
    "orignal newl is not sorted"
   ]
  },
  {
   "cell_type": "markdown",
   "id": "20ccaa13-9ff5-40b7-944a-674befef2ffd",
   "metadata": {},
   "source": [
    "we can store different types of values in lists like boolean or even a list itself"
   ]
  },
  {
   "cell_type": "code",
   "execution_count": 31,
   "id": "1f191bd2-7abf-4226-b1cb-4dc56c65a6b4",
   "metadata": {},
   "outputs": [],
   "source": [
    "y = [1,2,3,True,False,[4,5]]"
   ]
  },
  {
   "cell_type": "code",
   "execution_count": 32,
   "id": "953627d8-dc83-4777-b752-44cfbaa0ad7b",
   "metadata": {},
   "outputs": [
    {
     "data": {
      "text/plain": [
       "[1, 2, 3, True, False, [4, 5]]"
      ]
     },
     "execution_count": 32,
     "metadata": {},
     "output_type": "execute_result"
    }
   ],
   "source": [
    "y "
   ]
  },
  {
   "cell_type": "code",
   "execution_count": 33,
   "id": "fe453f57-6d87-47e2-8dc4-920f7a45c684",
   "metadata": {},
   "outputs": [
    {
     "data": {
      "text/plain": [
       "[4, 5]"
      ]
     },
     "execution_count": 33,
     "metadata": {},
     "output_type": "execute_result"
    }
   ],
   "source": [
    "y[5]"
   ]
  },
  {
   "cell_type": "code",
   "execution_count": 34,
   "id": "670aa1a9-05ec-44aa-b649-88c20a5bb41b",
   "metadata": {},
   "outputs": [
    {
     "data": {
      "text/plain": [
       "5"
      ]
     },
     "execution_count": 34,
     "metadata": {},
     "output_type": "execute_result"
    }
   ],
   "source": [
    "y[5][1]"
   ]
  },
  {
   "cell_type": "code",
   "execution_count": 35,
   "id": "cd83f8aa-b903-4919-975b-f6d2a51f0019",
   "metadata": {},
   "outputs": [
    {
     "data": {
      "text/plain": [
       "4"
      ]
     },
     "execution_count": 35,
     "metadata": {},
     "output_type": "execute_result"
    }
   ],
   "source": [
    "y[5][0]"
   ]
  },
  {
   "cell_type": "code",
   "execution_count": 36,
   "id": "2012be85-2d9e-44f4-bb35-c9abdb7e772a",
   "metadata": {},
   "outputs": [],
   "source": [
    "list1 = [5,4,3,2,1]"
   ]
  },
  {
   "cell_type": "code",
   "execution_count": 37,
   "id": "cfa8e853-2bac-4134-acab-d99905618be6",
   "metadata": {},
   "outputs": [],
   "source": [
    "list2 = [8,7,6,5]"
   ]
  },
  {
   "cell_type": "code",
   "execution_count": 38,
   "id": "1b4b0f99-a397-4d2f-930f-dfe8fe24db73",
   "metadata": {},
   "outputs": [
    {
     "data": {
      "text/plain": [
       "[5, 4, 3, 2, 1, 8, 7, 6, 5]"
      ]
     },
     "execution_count": 38,
     "metadata": {},
     "output_type": "execute_result"
    }
   ],
   "source": [
    "list1+list2"
   ]
  },
  {
   "cell_type": "code",
   "execution_count": 39,
   "id": "b0b26bad-8c8a-4ee4-9257-98ac99e7d739",
   "metadata": {},
   "outputs": [],
   "source": [
    "list3 = list1 + list2"
   ]
  },
  {
   "cell_type": "code",
   "execution_count": 40,
   "id": "6d6993a6-8435-42b9-9bbc-31c94ec00bb2",
   "metadata": {},
   "outputs": [
    {
     "data": {
      "text/plain": [
       "[5, 4, 3, 2, 1, 8, 7, 6, 5]"
      ]
     },
     "execution_count": 40,
     "metadata": {},
     "output_type": "execute_result"
    }
   ],
   "source": [
    "list3"
   ]
  },
  {
   "cell_type": "markdown",
   "id": "24f5ad85-2912-4b84-9f0b-5217123759e1",
   "metadata": {},
   "source": [
    "here we inserted list values inside variable list3 using + operator on two lists"
   ]
  },
  {
   "cell_type": "code",
   "execution_count": 41,
   "id": "5b7bfc85-8b31-4f11-8da9-054948aef266",
   "metadata": {},
   "outputs": [],
   "source": [
    "if 33 in list3:\n",
    "    print(\"yes\")"
   ]
  },
  {
   "cell_type": "code",
   "execution_count": 42,
   "id": "80b36269-98fb-4852-bab8-0a1a83c8df62",
   "metadata": {},
   "outputs": [
    {
     "data": {
      "text/plain": [
       "False"
      ]
     },
     "execution_count": 42,
     "metadata": {},
     "output_type": "execute_result"
    }
   ],
   "source": [
    "33 in list3"
   ]
  },
  {
   "cell_type": "code",
   "execution_count": 43,
   "id": "89cbeca9-fb1d-4bde-b011-e28a978359d8",
   "metadata": {},
   "outputs": [
    {
     "name": "stdout",
     "output_type": "stream",
     "text": [
      "yes\n"
     ]
    }
   ],
   "source": [
    "if 2 in list3:\n",
    "    print(\"yes\")"
   ]
  },
  {
   "cell_type": "code",
   "execution_count": 44,
   "id": "3031f391-f13d-421d-b3ab-044474803576",
   "metadata": {},
   "outputs": [
    {
     "data": {
      "text/plain": [
       "True"
      ]
     },
     "execution_count": 44,
     "metadata": {},
     "output_type": "execute_result"
    }
   ],
   "source": [
    "2 in list3"
   ]
  },
  {
   "cell_type": "code",
   "execution_count": 49,
   "id": "15b77b4b-34ee-4649-9116-f6082a6a389b",
   "metadata": {},
   "outputs": [],
   "source": [
    "s = \"hello-guys-how-are-you\""
   ]
  },
  {
   "cell_type": "code",
   "execution_count": 50,
   "id": "476d60fb-0d94-4b7f-8bf1-e10f28c216ac",
   "metadata": {},
   "outputs": [
    {
     "data": {
      "text/plain": [
       "['hello', 'guys', 'how', 'are', 'you']"
      ]
     },
     "execution_count": 50,
     "metadata": {},
     "output_type": "execute_result"
    }
   ],
   "source": [
    "s.split(\"-\")"
   ]
  },
  {
   "cell_type": "markdown",
   "id": "648588b8-9c3b-438f-8e27-a99b5c5641e5",
   "metadata": {},
   "source": [
    "here we create a list out of string as well"
   ]
  }
 ],
 "metadata": {
  "kernelspec": {
   "display_name": "Python 3 (ipykernel)",
   "language": "python",
   "name": "python3"
  },
  "language_info": {
   "codemirror_mode": {
    "name": "ipython",
    "version": 3
   },
   "file_extension": ".py",
   "mimetype": "text/x-python",
   "name": "python",
   "nbconvert_exporter": "python",
   "pygments_lexer": "ipython3",
   "version": "3.13.5"
  }
 },
 "nbformat": 4,
 "nbformat_minor": 5
}
